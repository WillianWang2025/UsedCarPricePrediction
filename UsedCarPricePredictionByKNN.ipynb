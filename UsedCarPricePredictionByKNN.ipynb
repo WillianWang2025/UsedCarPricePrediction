{
 "cells": [
  {
   "cell_type": "markdown",
   "metadata": {},
   "source": [
    "## KNN回归预测二手车价格\n",
    "KNN回归预测二手车价格的思路很简单，在历史数据中找到待预测样本的最相近的K个数据，通过这K个历史数据的平均（或加权平均）值得到待预测样本的回归值。"
   ]
  },
  {
   "cell_type": "code",
   "execution_count": 1,
   "metadata": {},
   "outputs": [],
   "source": [
    "# 导入用到的第三方库\n",
    "import pandas as pd\n",
    "from sklearn import preprocessing\n",
    "from sklearn.preprocessing import MinMaxScaler\n",
    "from sklearn.neighbors import KNeighborsRegressor\n",
    "from sklearn.metrics import mean_squared_error, mean_absolute_error\n",
    "import numpy as np\n",
    "import matplotlib.pyplot as plt\n",
    "import seaborn as sns\n"
   ]
  },
  {
   "cell_type": "code",
   "execution_count": 2,
   "metadata": {},
   "outputs": [
    {
     "name": "stdout",
     "output_type": "stream",
     "text": [
      "Train data shape: (150000, 31)\n",
      "TestA data shape: (50000, 30)\n"
     ]
    }
   ],
   "source": [
    "# 载入数据\n",
    "filepath_test = './used_car_testA_20200313.csv'\n",
    "filepath_train = './used_car_train_20200313.csv'\n",
    "Train_data = pd.read_csv(filepath_train, sep=' ')\n",
    "Test_data = pd.read_csv(filepath_test, sep=' ')\n",
    "## 输出数据的大小信息\n",
    "print('Train data shape:',Train_data.shape)\n",
    "print('TestA data shape:',Test_data.shape)\n"
   ]
  },
  {
   "cell_type": "markdown",
   "metadata": {},
   "source": [
    "### 数据探索性分析\n",
    "1 describe种有每列的统计量，个数count、平均值mean、方差std、最小值min、中位数25% 50% 75% 、以及最大值 看这个信息主要是瞬间掌握数据的大概的范围以及每个值的异常值的判断，比如有的时候会发现999 9999 -1 等值这些其实都是nan的另外一种表达方式\n",
    "\n",
    "2 info 通过info来了解数据每列的type，有助于了解是否存在除了nan以外的特殊符号异常\n",
    "\n",
    "3 head 通过head来了解展示前五行的数据\n"
   ]
  },
  {
   "cell_type": "code",
   "execution_count": 3,
   "metadata": {},
   "outputs": [
    {
     "name": "stdout",
     "output_type": "stream",
     "text": [
      "<class 'pandas.core.frame.DataFrame'>\n",
      "RangeIndex: 150000 entries, 0 to 149999\n",
      "Data columns (total 31 columns):\n",
      "SaleID               150000 non-null int64\n",
      "name                 150000 non-null int64\n",
      "regDate              150000 non-null int64\n",
      "model                149999 non-null float64\n",
      "brand                150000 non-null int64\n",
      "bodyType             145494 non-null float64\n",
      "fuelType             141320 non-null float64\n",
      "gearbox              144019 non-null float64\n",
      "power                150000 non-null int64\n",
      "kilometer            150000 non-null float64\n",
      "notRepairedDamage    150000 non-null object\n",
      "regionCode           150000 non-null int64\n",
      "seller               150000 non-null int64\n",
      "offerType            150000 non-null int64\n",
      "creatDate            150000 non-null int64\n",
      "price                150000 non-null int64\n",
      "v_0                  150000 non-null float64\n",
      "v_1                  150000 non-null float64\n",
      "v_2                  150000 non-null float64\n",
      "v_3                  150000 non-null float64\n",
      "v_4                  150000 non-null float64\n",
      "v_5                  150000 non-null float64\n",
      "v_6                  150000 non-null float64\n",
      "v_7                  150000 non-null float64\n",
      "v_8                  150000 non-null float64\n",
      "v_9                  150000 non-null float64\n",
      "v_10                 150000 non-null float64\n",
      "v_11                 150000 non-null float64\n",
      "v_12                 150000 non-null float64\n",
      "v_13                 150000 non-null float64\n",
      "v_14                 150000 non-null float64\n",
      "dtypes: float64(20), int64(10), object(1)\n",
      "memory usage: 35.5+ MB\n"
     ]
    }
   ],
   "source": [
    "# 通过info,describe或head函数查看数据的基本信息\n",
    "Train_data.info()"
   ]
  },
  {
   "cell_type": "code",
   "execution_count": 4,
   "metadata": {},
   "outputs": [
    {
     "data": {
      "text/html": [
       "<div>\n",
       "<style scoped>\n",
       "    .dataframe tbody tr th:only-of-type {\n",
       "        vertical-align: middle;\n",
       "    }\n",
       "\n",
       "    .dataframe tbody tr th {\n",
       "        vertical-align: top;\n",
       "    }\n",
       "\n",
       "    .dataframe thead th {\n",
       "        text-align: right;\n",
       "    }\n",
       "</style>\n",
       "<table border=\"1\" class=\"dataframe\">\n",
       "  <thead>\n",
       "    <tr style=\"text-align: right;\">\n",
       "      <th></th>\n",
       "      <th>SaleID</th>\n",
       "      <th>name</th>\n",
       "      <th>regDate</th>\n",
       "      <th>model</th>\n",
       "      <th>brand</th>\n",
       "      <th>bodyType</th>\n",
       "      <th>fuelType</th>\n",
       "      <th>gearbox</th>\n",
       "      <th>power</th>\n",
       "      <th>kilometer</th>\n",
       "      <th>...</th>\n",
       "      <th>v_5</th>\n",
       "      <th>v_6</th>\n",
       "      <th>v_7</th>\n",
       "      <th>v_8</th>\n",
       "      <th>v_9</th>\n",
       "      <th>v_10</th>\n",
       "      <th>v_11</th>\n",
       "      <th>v_12</th>\n",
       "      <th>v_13</th>\n",
       "      <th>v_14</th>\n",
       "    </tr>\n",
       "  </thead>\n",
       "  <tbody>\n",
       "    <tr>\n",
       "      <td>0</td>\n",
       "      <td>150000</td>\n",
       "      <td>66932</td>\n",
       "      <td>20111212</td>\n",
       "      <td>222.0</td>\n",
       "      <td>4</td>\n",
       "      <td>5.0</td>\n",
       "      <td>1.0</td>\n",
       "      <td>1.0</td>\n",
       "      <td>313</td>\n",
       "      <td>15.0</td>\n",
       "      <td>...</td>\n",
       "      <td>0.264405</td>\n",
       "      <td>0.121800</td>\n",
       "      <td>0.070899</td>\n",
       "      <td>0.106558</td>\n",
       "      <td>0.078867</td>\n",
       "      <td>-7.050969</td>\n",
       "      <td>-0.854626</td>\n",
       "      <td>4.800151</td>\n",
       "      <td>0.620011</td>\n",
       "      <td>-3.664654</td>\n",
       "    </tr>\n",
       "    <tr>\n",
       "      <td>1</td>\n",
       "      <td>150001</td>\n",
       "      <td>174960</td>\n",
       "      <td>19990211</td>\n",
       "      <td>19.0</td>\n",
       "      <td>21</td>\n",
       "      <td>0.0</td>\n",
       "      <td>0.0</td>\n",
       "      <td>0.0</td>\n",
       "      <td>75</td>\n",
       "      <td>12.5</td>\n",
       "      <td>...</td>\n",
       "      <td>0.261745</td>\n",
       "      <td>0.000000</td>\n",
       "      <td>0.096733</td>\n",
       "      <td>0.013705</td>\n",
       "      <td>0.052383</td>\n",
       "      <td>3.679418</td>\n",
       "      <td>-0.729039</td>\n",
       "      <td>-3.796107</td>\n",
       "      <td>-1.541230</td>\n",
       "      <td>-0.757055</td>\n",
       "    </tr>\n",
       "    <tr>\n",
       "      <td>2</td>\n",
       "      <td>150002</td>\n",
       "      <td>5356</td>\n",
       "      <td>20090304</td>\n",
       "      <td>82.0</td>\n",
       "      <td>21</td>\n",
       "      <td>0.0</td>\n",
       "      <td>0.0</td>\n",
       "      <td>0.0</td>\n",
       "      <td>109</td>\n",
       "      <td>7.0</td>\n",
       "      <td>...</td>\n",
       "      <td>0.260216</td>\n",
       "      <td>0.112081</td>\n",
       "      <td>0.078082</td>\n",
       "      <td>0.062078</td>\n",
       "      <td>0.050540</td>\n",
       "      <td>-4.926690</td>\n",
       "      <td>1.001106</td>\n",
       "      <td>0.826562</td>\n",
       "      <td>0.138226</td>\n",
       "      <td>0.754033</td>\n",
       "    </tr>\n",
       "    <tr>\n",
       "      <td>3</td>\n",
       "      <td>150003</td>\n",
       "      <td>50688</td>\n",
       "      <td>20100405</td>\n",
       "      <td>0.0</td>\n",
       "      <td>0</td>\n",
       "      <td>0.0</td>\n",
       "      <td>0.0</td>\n",
       "      <td>1.0</td>\n",
       "      <td>160</td>\n",
       "      <td>7.0</td>\n",
       "      <td>...</td>\n",
       "      <td>0.260466</td>\n",
       "      <td>0.106727</td>\n",
       "      <td>0.081146</td>\n",
       "      <td>0.075971</td>\n",
       "      <td>0.048268</td>\n",
       "      <td>-4.864637</td>\n",
       "      <td>0.505493</td>\n",
       "      <td>1.870379</td>\n",
       "      <td>0.366038</td>\n",
       "      <td>1.312775</td>\n",
       "    </tr>\n",
       "    <tr>\n",
       "      <td>4</td>\n",
       "      <td>150004</td>\n",
       "      <td>161428</td>\n",
       "      <td>19970703</td>\n",
       "      <td>26.0</td>\n",
       "      <td>14</td>\n",
       "      <td>2.0</td>\n",
       "      <td>0.0</td>\n",
       "      <td>0.0</td>\n",
       "      <td>75</td>\n",
       "      <td>15.0</td>\n",
       "      <td>...</td>\n",
       "      <td>0.250999</td>\n",
       "      <td>0.000000</td>\n",
       "      <td>0.077806</td>\n",
       "      <td>0.028600</td>\n",
       "      <td>0.081709</td>\n",
       "      <td>3.616475</td>\n",
       "      <td>-0.673236</td>\n",
       "      <td>-3.197685</td>\n",
       "      <td>-0.025678</td>\n",
       "      <td>-0.101290</td>\n",
       "    </tr>\n",
       "  </tbody>\n",
       "</table>\n",
       "<p>5 rows × 30 columns</p>\n",
       "</div>"
      ],
      "text/plain": [
       "   SaleID    name   regDate  model  brand  bodyType  fuelType  gearbox  power  \\\n",
       "0  150000   66932  20111212  222.0      4       5.0       1.0      1.0    313   \n",
       "1  150001  174960  19990211   19.0     21       0.0       0.0      0.0     75   \n",
       "2  150002    5356  20090304   82.0     21       0.0       0.0      0.0    109   \n",
       "3  150003   50688  20100405    0.0      0       0.0       0.0      1.0    160   \n",
       "4  150004  161428  19970703   26.0     14       2.0       0.0      0.0     75   \n",
       "\n",
       "   kilometer  ...       v_5       v_6       v_7       v_8       v_9      v_10  \\\n",
       "0       15.0  ...  0.264405  0.121800  0.070899  0.106558  0.078867 -7.050969   \n",
       "1       12.5  ...  0.261745  0.000000  0.096733  0.013705  0.052383  3.679418   \n",
       "2        7.0  ...  0.260216  0.112081  0.078082  0.062078  0.050540 -4.926690   \n",
       "3        7.0  ...  0.260466  0.106727  0.081146  0.075971  0.048268 -4.864637   \n",
       "4       15.0  ...  0.250999  0.000000  0.077806  0.028600  0.081709  3.616475   \n",
       "\n",
       "       v_11      v_12      v_13      v_14  \n",
       "0 -0.854626  4.800151  0.620011 -3.664654  \n",
       "1 -0.729039 -3.796107 -1.541230 -0.757055  \n",
       "2  1.001106  0.826562  0.138226  0.754033  \n",
       "3  0.505493  1.870379  0.366038  1.312775  \n",
       "4 -0.673236 -3.197685 -0.025678 -0.101290  \n",
       "\n",
       "[5 rows x 30 columns]"
      ]
     },
     "execution_count": 4,
     "metadata": {},
     "output_type": "execute_result"
    }
   ],
   "source": [
    "Test_data.head()"
   ]
  },
  {
   "cell_type": "code",
   "execution_count": 5,
   "metadata": {},
   "outputs": [
    {
     "data": {
      "text/html": [
       "<div>\n",
       "<style scoped>\n",
       "    .dataframe tbody tr th:only-of-type {\n",
       "        vertical-align: middle;\n",
       "    }\n",
       "\n",
       "    .dataframe tbody tr th {\n",
       "        vertical-align: top;\n",
       "    }\n",
       "\n",
       "    .dataframe thead th {\n",
       "        text-align: right;\n",
       "    }\n",
       "</style>\n",
       "<table border=\"1\" class=\"dataframe\">\n",
       "  <thead>\n",
       "    <tr style=\"text-align: right;\">\n",
       "      <th></th>\n",
       "      <th>SaleID</th>\n",
       "      <th>name</th>\n",
       "      <th>regDate</th>\n",
       "      <th>model</th>\n",
       "      <th>brand</th>\n",
       "      <th>bodyType</th>\n",
       "      <th>fuelType</th>\n",
       "      <th>gearbox</th>\n",
       "      <th>power</th>\n",
       "      <th>kilometer</th>\n",
       "      <th>...</th>\n",
       "      <th>v_5</th>\n",
       "      <th>v_6</th>\n",
       "      <th>v_7</th>\n",
       "      <th>v_8</th>\n",
       "      <th>v_9</th>\n",
       "      <th>v_10</th>\n",
       "      <th>v_11</th>\n",
       "      <th>v_12</th>\n",
       "      <th>v_13</th>\n",
       "      <th>v_14</th>\n",
       "    </tr>\n",
       "  </thead>\n",
       "  <tbody>\n",
       "    <tr>\n",
       "      <td>count</td>\n",
       "      <td>150000.000000</td>\n",
       "      <td>150000.000000</td>\n",
       "      <td>1.500000e+05</td>\n",
       "      <td>149999.000000</td>\n",
       "      <td>150000.000000</td>\n",
       "      <td>145494.000000</td>\n",
       "      <td>141320.000000</td>\n",
       "      <td>144019.000000</td>\n",
       "      <td>150000.000000</td>\n",
       "      <td>150000.000000</td>\n",
       "      <td>...</td>\n",
       "      <td>150000.000000</td>\n",
       "      <td>150000.000000</td>\n",
       "      <td>150000.000000</td>\n",
       "      <td>150000.000000</td>\n",
       "      <td>150000.000000</td>\n",
       "      <td>150000.000000</td>\n",
       "      <td>150000.000000</td>\n",
       "      <td>150000.000000</td>\n",
       "      <td>150000.000000</td>\n",
       "      <td>150000.000000</td>\n",
       "    </tr>\n",
       "    <tr>\n",
       "      <td>mean</td>\n",
       "      <td>74999.500000</td>\n",
       "      <td>68349.172873</td>\n",
       "      <td>2.003417e+07</td>\n",
       "      <td>47.129021</td>\n",
       "      <td>8.052733</td>\n",
       "      <td>1.792369</td>\n",
       "      <td>0.375842</td>\n",
       "      <td>0.224943</td>\n",
       "      <td>119.316547</td>\n",
       "      <td>12.597160</td>\n",
       "      <td>...</td>\n",
       "      <td>0.248204</td>\n",
       "      <td>0.044923</td>\n",
       "      <td>0.124692</td>\n",
       "      <td>0.058144</td>\n",
       "      <td>0.061996</td>\n",
       "      <td>-0.001000</td>\n",
       "      <td>0.009035</td>\n",
       "      <td>0.004813</td>\n",
       "      <td>0.000313</td>\n",
       "      <td>-0.000688</td>\n",
       "    </tr>\n",
       "    <tr>\n",
       "      <td>std</td>\n",
       "      <td>43301.414527</td>\n",
       "      <td>61103.875095</td>\n",
       "      <td>5.364988e+04</td>\n",
       "      <td>49.536040</td>\n",
       "      <td>7.864956</td>\n",
       "      <td>1.760640</td>\n",
       "      <td>0.548677</td>\n",
       "      <td>0.417546</td>\n",
       "      <td>177.168419</td>\n",
       "      <td>3.919576</td>\n",
       "      <td>...</td>\n",
       "      <td>0.045804</td>\n",
       "      <td>0.051743</td>\n",
       "      <td>0.201410</td>\n",
       "      <td>0.029186</td>\n",
       "      <td>0.035692</td>\n",
       "      <td>3.772386</td>\n",
       "      <td>3.286071</td>\n",
       "      <td>2.517478</td>\n",
       "      <td>1.288988</td>\n",
       "      <td>1.038685</td>\n",
       "    </tr>\n",
       "    <tr>\n",
       "      <td>min</td>\n",
       "      <td>0.000000</td>\n",
       "      <td>0.000000</td>\n",
       "      <td>1.991000e+07</td>\n",
       "      <td>0.000000</td>\n",
       "      <td>0.000000</td>\n",
       "      <td>0.000000</td>\n",
       "      <td>0.000000</td>\n",
       "      <td>0.000000</td>\n",
       "      <td>0.000000</td>\n",
       "      <td>0.500000</td>\n",
       "      <td>...</td>\n",
       "      <td>0.000000</td>\n",
       "      <td>0.000000</td>\n",
       "      <td>0.000000</td>\n",
       "      <td>0.000000</td>\n",
       "      <td>0.000000</td>\n",
       "      <td>-9.168192</td>\n",
       "      <td>-5.558207</td>\n",
       "      <td>-9.639552</td>\n",
       "      <td>-4.153899</td>\n",
       "      <td>-6.546556</td>\n",
       "    </tr>\n",
       "    <tr>\n",
       "      <td>25%</td>\n",
       "      <td>37499.750000</td>\n",
       "      <td>11156.000000</td>\n",
       "      <td>1.999091e+07</td>\n",
       "      <td>10.000000</td>\n",
       "      <td>1.000000</td>\n",
       "      <td>0.000000</td>\n",
       "      <td>0.000000</td>\n",
       "      <td>0.000000</td>\n",
       "      <td>75.000000</td>\n",
       "      <td>12.500000</td>\n",
       "      <td>...</td>\n",
       "      <td>0.243615</td>\n",
       "      <td>0.000038</td>\n",
       "      <td>0.062474</td>\n",
       "      <td>0.035334</td>\n",
       "      <td>0.033930</td>\n",
       "      <td>-3.722303</td>\n",
       "      <td>-1.951543</td>\n",
       "      <td>-1.871846</td>\n",
       "      <td>-1.057789</td>\n",
       "      <td>-0.437034</td>\n",
       "    </tr>\n",
       "    <tr>\n",
       "      <td>50%</td>\n",
       "      <td>74999.500000</td>\n",
       "      <td>51638.000000</td>\n",
       "      <td>2.003091e+07</td>\n",
       "      <td>30.000000</td>\n",
       "      <td>6.000000</td>\n",
       "      <td>1.000000</td>\n",
       "      <td>0.000000</td>\n",
       "      <td>0.000000</td>\n",
       "      <td>110.000000</td>\n",
       "      <td>15.000000</td>\n",
       "      <td>...</td>\n",
       "      <td>0.257798</td>\n",
       "      <td>0.000812</td>\n",
       "      <td>0.095866</td>\n",
       "      <td>0.057014</td>\n",
       "      <td>0.058484</td>\n",
       "      <td>1.624076</td>\n",
       "      <td>-0.358053</td>\n",
       "      <td>-0.130753</td>\n",
       "      <td>-0.036245</td>\n",
       "      <td>0.141246</td>\n",
       "    </tr>\n",
       "    <tr>\n",
       "      <td>75%</td>\n",
       "      <td>112499.250000</td>\n",
       "      <td>118841.250000</td>\n",
       "      <td>2.007111e+07</td>\n",
       "      <td>66.000000</td>\n",
       "      <td>13.000000</td>\n",
       "      <td>3.000000</td>\n",
       "      <td>1.000000</td>\n",
       "      <td>0.000000</td>\n",
       "      <td>150.000000</td>\n",
       "      <td>15.000000</td>\n",
       "      <td>...</td>\n",
       "      <td>0.265297</td>\n",
       "      <td>0.102009</td>\n",
       "      <td>0.125243</td>\n",
       "      <td>0.079382</td>\n",
       "      <td>0.087491</td>\n",
       "      <td>2.844357</td>\n",
       "      <td>1.255022</td>\n",
       "      <td>1.776933</td>\n",
       "      <td>0.942813</td>\n",
       "      <td>0.680378</td>\n",
       "    </tr>\n",
       "    <tr>\n",
       "      <td>max</td>\n",
       "      <td>149999.000000</td>\n",
       "      <td>196812.000000</td>\n",
       "      <td>2.015121e+07</td>\n",
       "      <td>247.000000</td>\n",
       "      <td>39.000000</td>\n",
       "      <td>7.000000</td>\n",
       "      <td>6.000000</td>\n",
       "      <td>1.000000</td>\n",
       "      <td>19312.000000</td>\n",
       "      <td>15.000000</td>\n",
       "      <td>...</td>\n",
       "      <td>0.291838</td>\n",
       "      <td>0.151420</td>\n",
       "      <td>1.404936</td>\n",
       "      <td>0.160791</td>\n",
       "      <td>0.222787</td>\n",
       "      <td>12.357011</td>\n",
       "      <td>18.819042</td>\n",
       "      <td>13.847792</td>\n",
       "      <td>11.147669</td>\n",
       "      <td>8.658418</td>\n",
       "    </tr>\n",
       "  </tbody>\n",
       "</table>\n",
       "<p>8 rows × 30 columns</p>\n",
       "</div>"
      ],
      "text/plain": [
       "              SaleID           name       regDate          model  \\\n",
       "count  150000.000000  150000.000000  1.500000e+05  149999.000000   \n",
       "mean    74999.500000   68349.172873  2.003417e+07      47.129021   \n",
       "std     43301.414527   61103.875095  5.364988e+04      49.536040   \n",
       "min         0.000000       0.000000  1.991000e+07       0.000000   \n",
       "25%     37499.750000   11156.000000  1.999091e+07      10.000000   \n",
       "50%     74999.500000   51638.000000  2.003091e+07      30.000000   \n",
       "75%    112499.250000  118841.250000  2.007111e+07      66.000000   \n",
       "max    149999.000000  196812.000000  2.015121e+07     247.000000   \n",
       "\n",
       "               brand       bodyType       fuelType        gearbox  \\\n",
       "count  150000.000000  145494.000000  141320.000000  144019.000000   \n",
       "mean        8.052733       1.792369       0.375842       0.224943   \n",
       "std         7.864956       1.760640       0.548677       0.417546   \n",
       "min         0.000000       0.000000       0.000000       0.000000   \n",
       "25%         1.000000       0.000000       0.000000       0.000000   \n",
       "50%         6.000000       1.000000       0.000000       0.000000   \n",
       "75%        13.000000       3.000000       1.000000       0.000000   \n",
       "max        39.000000       7.000000       6.000000       1.000000   \n",
       "\n",
       "               power      kilometer  ...            v_5            v_6  \\\n",
       "count  150000.000000  150000.000000  ...  150000.000000  150000.000000   \n",
       "mean      119.316547      12.597160  ...       0.248204       0.044923   \n",
       "std       177.168419       3.919576  ...       0.045804       0.051743   \n",
       "min         0.000000       0.500000  ...       0.000000       0.000000   \n",
       "25%        75.000000      12.500000  ...       0.243615       0.000038   \n",
       "50%       110.000000      15.000000  ...       0.257798       0.000812   \n",
       "75%       150.000000      15.000000  ...       0.265297       0.102009   \n",
       "max     19312.000000      15.000000  ...       0.291838       0.151420   \n",
       "\n",
       "                 v_7            v_8            v_9           v_10  \\\n",
       "count  150000.000000  150000.000000  150000.000000  150000.000000   \n",
       "mean        0.124692       0.058144       0.061996      -0.001000   \n",
       "std         0.201410       0.029186       0.035692       3.772386   \n",
       "min         0.000000       0.000000       0.000000      -9.168192   \n",
       "25%         0.062474       0.035334       0.033930      -3.722303   \n",
       "50%         0.095866       0.057014       0.058484       1.624076   \n",
       "75%         0.125243       0.079382       0.087491       2.844357   \n",
       "max         1.404936       0.160791       0.222787      12.357011   \n",
       "\n",
       "                v_11           v_12           v_13           v_14  \n",
       "count  150000.000000  150000.000000  150000.000000  150000.000000  \n",
       "mean        0.009035       0.004813       0.000313      -0.000688  \n",
       "std         3.286071       2.517478       1.288988       1.038685  \n",
       "min        -5.558207      -9.639552      -4.153899      -6.546556  \n",
       "25%        -1.951543      -1.871846      -1.057789      -0.437034  \n",
       "50%        -0.358053      -0.130753      -0.036245       0.141246  \n",
       "75%         1.255022       1.776933       0.942813       0.680378  \n",
       "max        18.819042      13.847792      11.147669       8.658418  \n",
       "\n",
       "[8 rows x 30 columns]"
      ]
     },
     "execution_count": 5,
     "metadata": {},
     "output_type": "execute_result"
    }
   ],
   "source": [
    "Train_data.describe()"
   ]
  },
  {
   "cell_type": "code",
   "execution_count": 6,
   "metadata": {},
   "outputs": [
    {
     "data": {
      "text/plain": [
       "SaleID                  0\n",
       "name                    0\n",
       "regDate                 0\n",
       "model                   1\n",
       "brand                   0\n",
       "bodyType             4506\n",
       "fuelType             8680\n",
       "gearbox              5981\n",
       "power                   0\n",
       "kilometer               0\n",
       "notRepairedDamage       0\n",
       "regionCode              0\n",
       "seller                  0\n",
       "offerType               0\n",
       "creatDate               0\n",
       "price                   0\n",
       "v_0                     0\n",
       "v_1                     0\n",
       "v_2                     0\n",
       "v_3                     0\n",
       "v_4                     0\n",
       "v_5                     0\n",
       "v_6                     0\n",
       "v_7                     0\n",
       "v_8                     0\n",
       "v_9                     0\n",
       "v_10                    0\n",
       "v_11                    0\n",
       "v_12                    0\n",
       "v_13                    0\n",
       "v_14                    0\n",
       "dtype: int64"
      ]
     },
     "execution_count": 6,
     "metadata": {},
     "output_type": "execute_result"
    }
   ],
   "source": [
    "## 1) 查看每列的存在nan情况\n",
    "Train_data.isnull().sum()"
   ]
  },
  {
   "cell_type": "markdown",
   "metadata": {},
   "source": [
    "可以发现，缺失值的比率并不多，可以选择舍弃或者补值；类型上面只有notRepairedDamage是object类型其他都为数字,仔细查看，可以发现notRepairedDamage有‘-’这样的值，需要处理"
   ]
  },
  {
   "cell_type": "code",
   "execution_count": 7,
   "metadata": {},
   "outputs": [],
   "source": [
    "Train_data['notRepairedDamage'].replace('-',-1, inplace=True)\n",
    "Test_data['notRepairedDamage'].replace('-',-1, inplace=True)"
   ]
  },
  {
   "cell_type": "code",
   "execution_count": 8,
   "metadata": {},
   "outputs": [
    {
     "data": {
      "text/plain": [
       "<matplotlib.axes._subplots.AxesSubplot at 0x20758166c08>"
      ]
     },
     "execution_count": 8,
     "metadata": {},
     "output_type": "execute_result"
    },
    {
     "data": {
      "image/png": "[encoded data removed]",
      "text/plain": [
       "<Figure size 432x288 with 1 Axes>"
      ]
     },
     "metadata": {
      "needs_background": "light"
     },
     "output_type": "display_data"
    },
    {
     "data": {
      "image/png": "[encoded data removed]",
      "text/plain": [
       "<Figure size 432x288 with 1 Axes>"
      ]
     },
     "metadata": {
      "needs_background": "light"
     },
     "output_type": "display_data"
    },
    {
     "data": {
      "image/png": "[encoded data removed]",
      "text/plain": [
       "<Figure size 432x288 with 1 Axes>"
      ]
     },
     "metadata": {
      "needs_background": "light"
     },
     "output_type": "display_data"
    }
   ],
   "source": [
    "# 了解预测值price的分布情况\n",
    "## 1) 总体分布概况（无界约翰逊分布等）\n",
    "import scipy.stats as st\n",
    "y = Train_data['price']\n",
    "plt.figure(1); plt.title('Johnson SU')\n",
    "sns.distplot(y, kde=False, fit=st.johnsonsu)\n",
    "plt.figure(2); plt.title('Normal')\n",
    "sns.distplot(y, kde=False, fit=st.norm)\n",
    "plt.figure(3); plt.title('Log Normal')\n",
    "sns.distplot(y, kde=False, fit=st.lognorm)"
   ]
  },
  {
   "cell_type": "code",
   "execution_count": 9,
   "metadata": {},
   "outputs": [
    {
     "name": "stdout",
     "output_type": "stream",
     "text": [
      "Skewness: 3.346487\n",
      "Kurtosis: 18.995183\n"
     ]
    },
    {
     "data": {
      "image/png": "[encoded data removed]",
      "text/plain": [
       "<Figure size 432x288 with 1 Axes>"
      ]
     },
     "metadata": {
      "needs_background": "light"
     },
     "output_type": "display_data"
    }
   ],
   "source": [
    "# price是长尾分布，根据不同的算法要求，可以做处理，例如取对数可以使数据分布相对更加符合正态分布\n",
    "# 对比来看\n",
    "# 也快看看偏度。峰度\n",
    "sns.distplot(Train_data['price']);\n",
    "print(\"Skewness: %f\" % Train_data['price'].skew())\n",
    "print(\"Kurtosis: %f\" % Train_data['price'].kurt())\n"
   ]
  },
  {
   "cell_type": "code",
   "execution_count": 10,
   "metadata": {},
   "outputs": [
    {
     "name": "stdout",
     "output_type": "stream",
     "text": [
      "Skewness: -0.265100\n",
      "Kurtosis: -0.171801\n"
     ]
    },
    {
     "data": {
      "image/png": "[encoded data removed]",
      "text/plain": [
       "<Figure size 432x288 with 1 Axes>"
      ]
     },
     "metadata": {
      "needs_background": "light"
     },
     "output_type": "display_data"
    }
   ],
   "source": [
    "# 取对数\n",
    "log_price = np.log(Train_data['price'])\n",
    "sns.distplot(log_price);\n",
    "print(\"Skewness: %f\" % log_price.skew())\n",
    "print(\"Kurtosis: %f\" % log_price.kurt())"
   ]
  },
  {
   "cell_type": "markdown",
   "metadata": {},
   "source": [
    "可以看到取对数后，数据的偏度、峰度都更加靠近正太分布"
   ]
  },
  {
   "cell_type": "code",
   "execution_count": 11,
   "metadata": {},
   "outputs": [],
   "source": [
    "# 根据业务知识，可以大致区分数值特征与类别特征\n",
    "numeric_features = ['power', 'kilometer', 'v_0', 'v_1', 'v_2', 'v_3', 'v_4', 'v_5', 'v_6', 'v_7', 'v_8', 'v_9', 'v_10', 'v_11', 'v_12', 'v_13','v_14' ]\n",
    "\n",
    "categorical_features = ['name', 'model', 'brand', 'bodyType', 'fuelType', 'gearbox', 'notRepairedDamage', 'regionCode'] \n",
    "numeric_features.append('price')\n"
   ]
  },
  {
   "cell_type": "code",
   "execution_count": 12,
   "metadata": {},
   "outputs": [
    {
     "name": "stdout",
     "output_type": "stream",
     "text": [
      "price        1.000000\n",
      "v_12         0.692823\n",
      "v_8          0.685798\n",
      "v_0          0.628397\n",
      "power        0.219834\n",
      "v_5          0.164317\n",
      "v_2          0.085322\n",
      "v_6          0.068970\n",
      "v_1          0.060914\n",
      "v_14         0.035911\n",
      "v_13        -0.013993\n",
      "v_7         -0.053024\n",
      "v_4         -0.147085\n",
      "v_9         -0.206205\n",
      "v_10        -0.246175\n",
      "v_11        -0.275320\n",
      "kilometer   -0.440519\n",
      "v_3         -0.730946\n",
      "Name: price, dtype: float64 \n",
      "\n"
     ]
    }
   ],
   "source": [
    "## 1) 相关性分析\n",
    "price_numeric = Train_data[numeric_features]\n",
    "correlation = price_numeric.corr()\n",
    "print(correlation['price'].sort_values(ascending = False),'\\n')\n"
   ]
  },
  {
   "cell_type": "code",
   "execution_count": 13,
   "metadata": {},
   "outputs": [
    {
     "data": {
      "text/plain": [
       "<matplotlib.axes._subplots.AxesSubplot at 0x20758124388>"
      ]
     },
     "execution_count": 13,
     "metadata": {},
     "output_type": "execute_result"
    },
    {
     "data": {
      "image/png": "[encoded data removed]",
      "text/plain": [
       "<Figure size 504x504 with 2 Axes>"
      ]
     },
     "metadata": {
      "needs_background": "light"
     },
     "output_type": "display_data"
    }
   ],
   "source": [
    "# 可视化来看相关性分布\n",
    "f , ax = plt.subplots(figsize = (7, 7))\n",
    "\n",
    "plt.title('Correlation of Numeric Features with Price',y=1,size=16)\n",
    "\n",
    "sns.heatmap(correlation,square = True,  vmax=0.8)\n"
   ]
  },
  {
   "cell_type": "code",
   "execution_count": 14,
   "metadata": {},
   "outputs": [],
   "source": [
    "# 日期的处理\n",
    "# 日期是比较特殊的特征，往往需要做一些特征工程才能挖掘它带来的效果\n",
    "def preprocess(df):\n",
    "    df['notRepairedDamage'].replace('-', -1, inplace=True)\n",
    "    df['notRepairedDamage'] = df['notRepairedDamage'].astype(float)\n",
    "    # 提取年月日信息\n",
    "    df = parse_date(df, 'regDate')\n",
    "    df = parse_date(df, 'creatDate')\n",
    "    # 构造特征--计算车龄，以月为单位\n",
    "    df['carAge'] = (df['creatDate_year'] - df['regDate_year']) * 12 + df['creatDate_month'] - df['regDate_month']\n",
    "    # 补缺\n",
    "    # df = df.fillna(-1)\n",
    "    return df\n",
    "def parse_date(df, colname):\n",
    "    newcol = colname + 'timestamp'\n",
    "    df[newcol] = pd.to_datetime(df[colname].astype('str').apply(date_proc_zero))\n",
    "    df[colname + '_year'] = df[newcol].dt.year\n",
    "    df[colname + '_month'] = df[newcol].dt.month\n",
    "    df[colname + '_day'] = df[newcol].dt.day\n",
    "    df[colname + '_dayofweek'] = df[newcol].dt.dayofweek\n",
    "    return df\n",
    "def date_proc_zero(x):\n",
    "    m = int(x[4:6])\n",
    "    if m == 0:\n",
    "        m = 1\n",
    "    return x[:4] + '-' + str(m) + '-' + x[6:]\n"
   ]
  },
  {
   "cell_type": "code",
   "execution_count": 15,
   "metadata": {},
   "outputs": [
    {
     "data": {
      "text/plain": [
       "(135884, 42)"
      ]
     },
     "execution_count": 15,
     "metadata": {},
     "output_type": "execute_result"
    }
   ],
   "source": [
    "df = preprocess(Train_data)\n",
    "df = df.dropna()\n",
    "df.shape"
   ]
  },
  {
   "cell_type": "code",
   "execution_count": 17,
   "metadata": {},
   "outputs": [
    {
     "name": "stdout",
     "output_type": "stream",
     "text": [
      "862.7386160963104\n"
     ]
    }
   ],
   "source": [
    "# KNN属于惰性模型，基本不需要训练\n",
    "# 先打乱顺序，然后建模型\n",
    "\n",
    "# 打乱顺序\n",
    "df = df.sample(frac=1)\n",
    "\n",
    "features = ['power', 'kilometer', 'carAge', 'v_0', 'v_1', 'v_2', 'v_3', 'v_4', 'v_5', 'v_6', 'v_7', 'v_8', 'v_9','v_10', 'v_11', 'v_12', 'v_13', 'v_14']\n",
    "data_feature = df[features]\n",
    "\n",
    "target = df['price']\n",
    "data_feature = MinMaxScaler().fit_transform(data_feature)\n",
    "number = 100000\n",
    "train_set = data_feature[:number]\n",
    "train_target = target[:number]\n",
    "test_set = data_feature[number:]\n",
    "test_target = target[number:]\n",
    "# 实例化一个KNN回归模型\n",
    "KNN = KNeighborsRegressor(n_neighbors=10)\n",
    "KNN.fit(train_set, train_target)\n",
    "prediction = KNN.predict(test_set)\n",
    "print(mean_absolute_error(test_target, prediction))\n",
    "result = pd.DataFrame()\n",
    "result['target'] = test_target.values\n",
    "result['prediction'] = prediction\n",
    "result.to_csv('./knnresult0504.csv')\n"
   ]
  },
  {
   "cell_type": "markdown",
   "metadata": {},
   "source": [
    "没有更多的做特征工程和误差分析，粗糙的模型得到的效果一般般"
   ]
  },
  {
   "cell_type": "code",
   "execution_count": null,
   "metadata": {},
   "outputs": [],
   "source": []
  }
 ],
 "metadata": {
  "kernelspec": {
   "display_name": "Python 3",
   "language": "python",
   "name": "python3"
  },
  "language_info": {
   "codemirror_mode": {
    "name": "ipython",
    "version": 3
   },
   "file_extension": ".py",
   "mimetype": "text/x-python",
   "name": "python",
   "nbconvert_exporter": "python",
   "pygments_lexer": "ipython3",
   "version": "3.7.4"
  }
 },
 "nbformat": 4,
 "nbformat_minor": 2
}
