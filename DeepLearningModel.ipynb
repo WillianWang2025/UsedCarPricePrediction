{
 "cells": [
  {
   "cell_type": "code",
   "execution_count": 2,
   "metadata": {},
   "outputs": [],
   "source": [
    "import pandas as pd\n",
    "import numpy as np\n",
    "from sklearn.preprocessing import MinMaxScaler\n",
    "from sklearn.model_selection import train_test_split\n",
    "from tensorflow import keras\n",
    "from sklearn.metrics import mean_absolute_error\n"
   ]
  },
  {
   "cell_type": "code",
   "execution_count": 3,
   "metadata": {},
   "outputs": [
    {
     "data": {
      "text/plain": [
       "(150000, 31)"
      ]
     },
     "execution_count": 3,
     "metadata": {},
     "output_type": "execute_result"
    }
   ],
   "source": [
    "#只处理 notRepairedDamage为0的数据\n",
    "df = pd.read_csv(r'E:/OpenData/CarPrice/used_car_train_20200313.csv',sep = ' ')\n",
    "df['notRepairedDamage'].replace('-', 0.5, inplace=True)\n",
    "df['notRepairedDamage'] = df['notRepairedDamage'].astype(float)\n",
    "# train_data = df[df['notRepairedDamage']==0]\n",
    "data_test = pd.read_csv(r'E:/OpenData/CarPrice/used_car_testA_20200313.csv',sep = ' ')\n",
    "data_test['notRepairedDamage'].replace('-', 0.5, inplace=True)\n",
    "data_test['notRepairedDamage'] = data_test['notRepairedDamage'].astype(float)\n",
    "df.shape\n"
   ]
  },
  {
   "cell_type": "code",
   "execution_count": 4,
   "metadata": {},
   "outputs": [],
   "source": [
    "# 预处理\n",
    "def date_proc_zero(x):\n",
    "    m = int(x[4:6])\n",
    "    if m == 0:\n",
    "        m = 1\n",
    "    return x[:4] + '-' + str(m) + '-' + x[6:]\n"
   ]
  },
  {
   "cell_type": "code",
   "execution_count": 5,
   "metadata": {},
   "outputs": [],
   "source": [
    "def parse_date(df, colname):\n",
    "    newcol = colname + 'timestamp'\n",
    "    df[newcol] = pd.to_datetime(df[colname].astype('str').apply(date_proc_zero))\n",
    "    df[colname + '_year'] = df[newcol].dt.year\n",
    "    df[colname + '_month'] = df[newcol].dt.month\n",
    "    df[colname + '_day'] = df[newcol].dt.day\n",
    "    df[colname + '_dayofweek'] = df[newcol].dt.dayofweek\n",
    "    return df\n"
   ]
  },
  {
   "cell_type": "code",
   "execution_count": 6,
   "metadata": {},
   "outputs": [],
   "source": [
    "train_data = df\n",
    "train_data = parse_date(train_data, 'regDate')\n",
    "train_data = parse_date(train_data, 'creatDate')\n",
    "# 构造特征--计算车龄，以月为单位\n",
    "train_data['carAge'] = (train_data['creatDate_year'] - train_data['regDate_year']) * 12 + train_data['creatDate_month'] - train_data['regDate_month']\n",
    "  \n"
   ]
  },
  {
   "cell_type": "code",
   "execution_count": 7,
   "metadata": {},
   "outputs": [],
   "source": [
    "data_test = parse_date(data_test, 'regDate')\n",
    "data_test = parse_date(data_test, 'creatDate')\n",
    "# 构造特征--计算车龄，以月为单位\n",
    "data_test['carAge'] = (data_test['creatDate_year'] - data_test['regDate_year']) * 12 + data_test['creatDate_month'] - data_test['regDate_month']\n",
    "  \n"
   ]
  },
  {
   "cell_type": "code",
   "execution_count": 8,
   "metadata": {},
   "outputs": [
    {
     "name": "stdout",
     "output_type": "stream",
     "text": [
      "<class 'pandas.core.frame.DataFrame'>\n",
      "RangeIndex: 150000 entries, 0 to 149999\n",
      "Data columns (total 42 columns):\n",
      "SaleID                 150000 non-null int64\n",
      "name                   150000 non-null int64\n",
      "regDate                150000 non-null int64\n",
      "model                  149999 non-null float64\n",
      "brand                  150000 non-null int64\n",
      "bodyType               145494 non-null float64\n",
      "fuelType               141320 non-null float64\n",
      "gearbox                144019 non-null float64\n",
      "power                  150000 non-null int64\n",
      "kilometer              150000 non-null float64\n",
      "notRepairedDamage      150000 non-null float64\n",
      "regionCode             150000 non-null int64\n",
      "seller                 150000 non-null int64\n",
      "offerType              150000 non-null int64\n",
      "creatDate              150000 non-null int64\n",
      "price                  150000 non-null int64\n",
      "v_0                    150000 non-null float64\n",
      "v_1                    150000 non-null float64\n",
      "v_2                    150000 non-null float64\n",
      "v_3                    150000 non-null float64\n",
      "v_4                    150000 non-null float64\n",
      "v_5                    150000 non-null float64\n",
      "v_6                    150000 non-null float64\n",
      "v_7                    150000 non-null float64\n",
      "v_8                    150000 non-null float64\n",
      "v_9                    150000 non-null float64\n",
      "v_10                   150000 non-null float64\n",
      "v_11                   150000 non-null float64\n",
      "v_12                   150000 non-null float64\n",
      "v_13                   150000 non-null float64\n",
      "v_14                   150000 non-null float64\n",
      "regDatetimestamp       150000 non-null datetime64[ns]\n",
      "regDate_year           150000 non-null int64\n",
      "regDate_month          150000 non-null int64\n",
      "regDate_day            150000 non-null int64\n",
      "regDate_dayofweek      150000 non-null int64\n",
      "creatDatetimestamp     150000 non-null datetime64[ns]\n",
      "creatDate_year         150000 non-null int64\n",
      "creatDate_month        150000 non-null int64\n",
      "creatDate_day          150000 non-null int64\n",
      "creatDate_dayofweek    150000 non-null int64\n",
      "carAge                 150000 non-null int64\n",
      "dtypes: datetime64[ns](2), float64(21), int64(19)\n",
      "memory usage: 48.1 MB\n"
     ]
    }
   ],
   "source": [
    "train_data.info()\n"
   ]
  },
  {
   "cell_type": "code",
   "execution_count": 9,
   "metadata": {},
   "outputs": [
    {
     "name": "stderr",
     "output_type": "stream",
     "text": [
      "D:\\ProgramFiles\\Anaconda3\\lib\\site-packages\\ipykernel_launcher.py:2: SettingWithCopyWarning: \n",
      "A value is trying to be set on a copy of a slice from a DataFrame\n",
      "\n",
      "See the caveats in the documentation: http://pandas.pydata.org/pandas-docs/stable/user_guide/indexing.html#returning-a-view-versus-a-copy\n",
      "  \n",
      "D:\\ProgramFiles\\Anaconda3\\lib\\site-packages\\ipykernel_launcher.py:3: SettingWithCopyWarning: \n",
      "A value is trying to be set on a copy of a slice from a DataFrame\n",
      "\n",
      "See the caveats in the documentation: http://pandas.pydata.org/pandas-docs/stable/user_guide/indexing.html#returning-a-view-versus-a-copy\n",
      "  This is separate from the ipykernel package so we can avoid doing imports until\n"
     ]
    }
   ],
   "source": [
    "#修改异常数据\n",
    "train_data['power'][train_data['power']>600]=600\n",
    "data_test['power'][data_test['power']>600]=600\n"
   ]
  },
  {
   "cell_type": "code",
   "execution_count": 10,
   "metadata": {},
   "outputs": [],
   "source": [
    "train_data = pd.get_dummies(train_data, prefix=None, prefix_sep='_', dummy_na=False, columns=['model','bodyType','gearbox','brand','fuelType','notRepairedDamage'], sparse=False, drop_first=False)\n"
   ]
  },
  {
   "cell_type": "code",
   "execution_count": 11,
   "metadata": {},
   "outputs": [
    {
     "data": {
      "text/html": [
       "<div>\n",
       "<style scoped>\n",
       "    .dataframe tbody tr th:only-of-type {\n",
       "        vertical-align: middle;\n",
       "    }\n",
       "\n",
       "    .dataframe tbody tr th {\n",
       "        vertical-align: top;\n",
       "    }\n",
       "\n",
       "    .dataframe thead th {\n",
       "        text-align: right;\n",
       "    }\n",
       "</style>\n",
       "<table border=\"1\" class=\"dataframe\">\n",
       "  <thead>\n",
       "    <tr style=\"text-align: right;\">\n",
       "      <th></th>\n",
       "      <th>SaleID</th>\n",
       "      <th>name</th>\n",
       "      <th>regDate</th>\n",
       "      <th>power</th>\n",
       "      <th>kilometer</th>\n",
       "      <th>regionCode</th>\n",
       "      <th>seller</th>\n",
       "      <th>offerType</th>\n",
       "      <th>creatDate</th>\n",
       "      <th>price</th>\n",
       "      <th>...</th>\n",
       "      <th>fuelType_0.0</th>\n",
       "      <th>fuelType_1.0</th>\n",
       "      <th>fuelType_2.0</th>\n",
       "      <th>fuelType_3.0</th>\n",
       "      <th>fuelType_4.0</th>\n",
       "      <th>fuelType_5.0</th>\n",
       "      <th>fuelType_6.0</th>\n",
       "      <th>notRepairedDamage_0.0</th>\n",
       "      <th>notRepairedDamage_0.5</th>\n",
       "      <th>notRepairedDamage_1.0</th>\n",
       "    </tr>\n",
       "  </thead>\n",
       "  <tbody>\n",
       "    <tr>\n",
       "      <td>0</td>\n",
       "      <td>0</td>\n",
       "      <td>736</td>\n",
       "      <td>20040402</td>\n",
       "      <td>60</td>\n",
       "      <td>12.5</td>\n",
       "      <td>1046</td>\n",
       "      <td>0</td>\n",
       "      <td>0</td>\n",
       "      <td>20160404</td>\n",
       "      <td>1850</td>\n",
       "      <td>...</td>\n",
       "      <td>1</td>\n",
       "      <td>0</td>\n",
       "      <td>0</td>\n",
       "      <td>0</td>\n",
       "      <td>0</td>\n",
       "      <td>0</td>\n",
       "      <td>0</td>\n",
       "      <td>1</td>\n",
       "      <td>0</td>\n",
       "      <td>0</td>\n",
       "    </tr>\n",
       "    <tr>\n",
       "      <td>1</td>\n",
       "      <td>1</td>\n",
       "      <td>2262</td>\n",
       "      <td>20030301</td>\n",
       "      <td>0</td>\n",
       "      <td>15.0</td>\n",
       "      <td>4366</td>\n",
       "      <td>0</td>\n",
       "      <td>0</td>\n",
       "      <td>20160309</td>\n",
       "      <td>3600</td>\n",
       "      <td>...</td>\n",
       "      <td>1</td>\n",
       "      <td>0</td>\n",
       "      <td>0</td>\n",
       "      <td>0</td>\n",
       "      <td>0</td>\n",
       "      <td>0</td>\n",
       "      <td>0</td>\n",
       "      <td>0</td>\n",
       "      <td>1</td>\n",
       "      <td>0</td>\n",
       "    </tr>\n",
       "    <tr>\n",
       "      <td>2</td>\n",
       "      <td>2</td>\n",
       "      <td>14874</td>\n",
       "      <td>20040403</td>\n",
       "      <td>163</td>\n",
       "      <td>12.5</td>\n",
       "      <td>2806</td>\n",
       "      <td>0</td>\n",
       "      <td>0</td>\n",
       "      <td>20160402</td>\n",
       "      <td>6222</td>\n",
       "      <td>...</td>\n",
       "      <td>1</td>\n",
       "      <td>0</td>\n",
       "      <td>0</td>\n",
       "      <td>0</td>\n",
       "      <td>0</td>\n",
       "      <td>0</td>\n",
       "      <td>0</td>\n",
       "      <td>1</td>\n",
       "      <td>0</td>\n",
       "      <td>0</td>\n",
       "    </tr>\n",
       "    <tr>\n",
       "      <td>3</td>\n",
       "      <td>3</td>\n",
       "      <td>71865</td>\n",
       "      <td>19960908</td>\n",
       "      <td>193</td>\n",
       "      <td>15.0</td>\n",
       "      <td>434</td>\n",
       "      <td>0</td>\n",
       "      <td>0</td>\n",
       "      <td>20160312</td>\n",
       "      <td>2400</td>\n",
       "      <td>...</td>\n",
       "      <td>1</td>\n",
       "      <td>0</td>\n",
       "      <td>0</td>\n",
       "      <td>0</td>\n",
       "      <td>0</td>\n",
       "      <td>0</td>\n",
       "      <td>0</td>\n",
       "      <td>1</td>\n",
       "      <td>0</td>\n",
       "      <td>0</td>\n",
       "    </tr>\n",
       "    <tr>\n",
       "      <td>4</td>\n",
       "      <td>4</td>\n",
       "      <td>111080</td>\n",
       "      <td>20120103</td>\n",
       "      <td>68</td>\n",
       "      <td>5.0</td>\n",
       "      <td>6977</td>\n",
       "      <td>0</td>\n",
       "      <td>0</td>\n",
       "      <td>20160313</td>\n",
       "      <td>5200</td>\n",
       "      <td>...</td>\n",
       "      <td>1</td>\n",
       "      <td>0</td>\n",
       "      <td>0</td>\n",
       "      <td>0</td>\n",
       "      <td>0</td>\n",
       "      <td>0</td>\n",
       "      <td>0</td>\n",
       "      <td>1</td>\n",
       "      <td>0</td>\n",
       "      <td>0</td>\n",
       "    </tr>\n",
       "  </tbody>\n",
       "</table>\n",
       "<p>5 rows × 344 columns</p>\n",
       "</div>"
      ],
      "text/plain": [
       "   SaleID    name   regDate  power  kilometer  regionCode  seller  offerType  \\\n",
       "0       0     736  20040402     60       12.5        1046       0          0   \n",
       "1       1    2262  20030301      0       15.0        4366       0          0   \n",
       "2       2   14874  20040403    163       12.5        2806       0          0   \n",
       "3       3   71865  19960908    193       15.0         434       0          0   \n",
       "4       4  111080  20120103     68        5.0        6977       0          0   \n",
       "\n",
       "   creatDate  price  ...  fuelType_0.0  fuelType_1.0  fuelType_2.0  \\\n",
       "0   20160404   1850  ...             1             0             0   \n",
       "1   20160309   3600  ...             1             0             0   \n",
       "2   20160402   6222  ...             1             0             0   \n",
       "3   20160312   2400  ...             1             0             0   \n",
       "4   20160313   5200  ...             1             0             0   \n",
       "\n",
       "   fuelType_3.0  fuelType_4.0  fuelType_5.0  fuelType_6.0  \\\n",
       "0             0             0             0             0   \n",
       "1             0             0             0             0   \n",
       "2             0             0             0             0   \n",
       "3             0             0             0             0   \n",
       "4             0             0             0             0   \n",
       "\n",
       "   notRepairedDamage_0.0  notRepairedDamage_0.5  notRepairedDamage_1.0  \n",
       "0                      1                      0                      0  \n",
       "1                      0                      1                      0  \n",
       "2                      1                      0                      0  \n",
       "3                      1                      0                      0  \n",
       "4                      1                      0                      0  \n",
       "\n",
       "[5 rows x 344 columns]"
      ]
     },
     "execution_count": 11,
     "metadata": {},
     "output_type": "execute_result"
    }
   ],
   "source": [
    "train_data.head()"
   ]
  },
  {
   "cell_type": "code",
   "execution_count": 12,
   "metadata": {},
   "outputs": [],
   "source": [
    "data_test = pd.get_dummies(data_test, prefix=None, prefix_sep='_', dummy_na=False, columns=['model','bodyType','gearbox','brand','fuelType','notRepairedDamage'], sparse=False, drop_first=False)\n"
   ]
  },
  {
   "cell_type": "code",
   "execution_count": 13,
   "metadata": {},
   "outputs": [
    {
     "data": {
      "text/html": [
       "<div>\n",
       "<style scoped>\n",
       "    .dataframe tbody tr th:only-of-type {\n",
       "        vertical-align: middle;\n",
       "    }\n",
       "\n",
       "    .dataframe tbody tr th {\n",
       "        vertical-align: top;\n",
       "    }\n",
       "\n",
       "    .dataframe thead th {\n",
       "        text-align: right;\n",
       "    }\n",
       "</style>\n",
       "<table border=\"1\" class=\"dataframe\">\n",
       "  <thead>\n",
       "    <tr style=\"text-align: right;\">\n",
       "      <th></th>\n",
       "      <th>SaleID</th>\n",
       "      <th>name</th>\n",
       "      <th>regDate</th>\n",
       "      <th>power</th>\n",
       "      <th>kilometer</th>\n",
       "      <th>regionCode</th>\n",
       "      <th>seller</th>\n",
       "      <th>offerType</th>\n",
       "      <th>creatDate</th>\n",
       "      <th>v_0</th>\n",
       "      <th>...</th>\n",
       "      <th>fuelType_0.0</th>\n",
       "      <th>fuelType_1.0</th>\n",
       "      <th>fuelType_2.0</th>\n",
       "      <th>fuelType_3.0</th>\n",
       "      <th>fuelType_4.0</th>\n",
       "      <th>fuelType_5.0</th>\n",
       "      <th>fuelType_6.0</th>\n",
       "      <th>notRepairedDamage_0.0</th>\n",
       "      <th>notRepairedDamage_0.5</th>\n",
       "      <th>notRepairedDamage_1.0</th>\n",
       "    </tr>\n",
       "  </thead>\n",
       "  <tbody>\n",
       "    <tr>\n",
       "      <td>0</td>\n",
       "      <td>150000</td>\n",
       "      <td>66932</td>\n",
       "      <td>20111212</td>\n",
       "      <td>313</td>\n",
       "      <td>15.0</td>\n",
       "      <td>1440</td>\n",
       "      <td>0</td>\n",
       "      <td>0</td>\n",
       "      <td>20160329</td>\n",
       "      <td>49.593127</td>\n",
       "      <td>...</td>\n",
       "      <td>0</td>\n",
       "      <td>1</td>\n",
       "      <td>0</td>\n",
       "      <td>0</td>\n",
       "      <td>0</td>\n",
       "      <td>0</td>\n",
       "      <td>0</td>\n",
       "      <td>1</td>\n",
       "      <td>0</td>\n",
       "      <td>0</td>\n",
       "    </tr>\n",
       "    <tr>\n",
       "      <td>1</td>\n",
       "      <td>150001</td>\n",
       "      <td>174960</td>\n",
       "      <td>19990211</td>\n",
       "      <td>75</td>\n",
       "      <td>12.5</td>\n",
       "      <td>5419</td>\n",
       "      <td>0</td>\n",
       "      <td>0</td>\n",
       "      <td>20160404</td>\n",
       "      <td>42.395926</td>\n",
       "      <td>...</td>\n",
       "      <td>1</td>\n",
       "      <td>0</td>\n",
       "      <td>0</td>\n",
       "      <td>0</td>\n",
       "      <td>0</td>\n",
       "      <td>0</td>\n",
       "      <td>0</td>\n",
       "      <td>0</td>\n",
       "      <td>0</td>\n",
       "      <td>1</td>\n",
       "    </tr>\n",
       "    <tr>\n",
       "      <td>2</td>\n",
       "      <td>150002</td>\n",
       "      <td>5356</td>\n",
       "      <td>20090304</td>\n",
       "      <td>109</td>\n",
       "      <td>7.0</td>\n",
       "      <td>5045</td>\n",
       "      <td>0</td>\n",
       "      <td>0</td>\n",
       "      <td>20160308</td>\n",
       "      <td>45.841370</td>\n",
       "      <td>...</td>\n",
       "      <td>1</td>\n",
       "      <td>0</td>\n",
       "      <td>0</td>\n",
       "      <td>0</td>\n",
       "      <td>0</td>\n",
       "      <td>0</td>\n",
       "      <td>0</td>\n",
       "      <td>1</td>\n",
       "      <td>0</td>\n",
       "      <td>0</td>\n",
       "    </tr>\n",
       "    <tr>\n",
       "      <td>3</td>\n",
       "      <td>150003</td>\n",
       "      <td>50688</td>\n",
       "      <td>20100405</td>\n",
       "      <td>160</td>\n",
       "      <td>7.0</td>\n",
       "      <td>4023</td>\n",
       "      <td>0</td>\n",
       "      <td>0</td>\n",
       "      <td>20160325</td>\n",
       "      <td>46.440649</td>\n",
       "      <td>...</td>\n",
       "      <td>1</td>\n",
       "      <td>0</td>\n",
       "      <td>0</td>\n",
       "      <td>0</td>\n",
       "      <td>0</td>\n",
       "      <td>0</td>\n",
       "      <td>0</td>\n",
       "      <td>1</td>\n",
       "      <td>0</td>\n",
       "      <td>0</td>\n",
       "    </tr>\n",
       "    <tr>\n",
       "      <td>4</td>\n",
       "      <td>150004</td>\n",
       "      <td>161428</td>\n",
       "      <td>19970703</td>\n",
       "      <td>75</td>\n",
       "      <td>15.0</td>\n",
       "      <td>3103</td>\n",
       "      <td>0</td>\n",
       "      <td>0</td>\n",
       "      <td>20160309</td>\n",
       "      <td>42.184604</td>\n",
       "      <td>...</td>\n",
       "      <td>1</td>\n",
       "      <td>0</td>\n",
       "      <td>0</td>\n",
       "      <td>0</td>\n",
       "      <td>0</td>\n",
       "      <td>0</td>\n",
       "      <td>0</td>\n",
       "      <td>1</td>\n",
       "      <td>0</td>\n",
       "      <td>0</td>\n",
       "    </tr>\n",
       "  </tbody>\n",
       "</table>\n",
       "<p>5 rows × 342 columns</p>\n",
       "</div>"
      ],
      "text/plain": [
       "   SaleID    name   regDate  power  kilometer  regionCode  seller  offerType  \\\n",
       "0  150000   66932  20111212    313       15.0        1440       0          0   \n",
       "1  150001  174960  19990211     75       12.5        5419       0          0   \n",
       "2  150002    5356  20090304    109        7.0        5045       0          0   \n",
       "3  150003   50688  20100405    160        7.0        4023       0          0   \n",
       "4  150004  161428  19970703     75       15.0        3103       0          0   \n",
       "\n",
       "   creatDate        v_0  ...  fuelType_0.0  fuelType_1.0  fuelType_2.0  \\\n",
       "0   20160329  49.593127  ...             0             1             0   \n",
       "1   20160404  42.395926  ...             1             0             0   \n",
       "2   20160308  45.841370  ...             1             0             0   \n",
       "3   20160325  46.440649  ...             1             0             0   \n",
       "4   20160309  42.184604  ...             1             0             0   \n",
       "\n",
       "   fuelType_3.0  fuelType_4.0  fuelType_5.0  fuelType_6.0  \\\n",
       "0             0             0             0             0   \n",
       "1             0             0             0             0   \n",
       "2             0             0             0             0   \n",
       "3             0             0             0             0   \n",
       "4             0             0             0             0   \n",
       "\n",
       "   notRepairedDamage_0.0  notRepairedDamage_0.5  notRepairedDamage_1.0  \n",
       "0                      1                      0                      0  \n",
       "1                      0                      0                      1  \n",
       "2                      1                      0                      0  \n",
       "3                      1                      0                      0  \n",
       "4                      1                      0                      0  \n",
       "\n",
       "[5 rows x 342 columns]"
      ]
     },
     "execution_count": 13,
     "metadata": {},
     "output_type": "execute_result"
    }
   ],
   "source": [
    "data_test.head()\n"
   ]
  },
  {
   "cell_type": "code",
   "execution_count": 14,
   "metadata": {},
   "outputs": [
    {
     "name": "stdout",
     "output_type": "stream",
     "text": [
      "{'model_247.0', 'price'}\n"
     ]
    }
   ],
   "source": [
    "missing_cols = set( train_data.columns ) - set( data_test.columns )\n",
    "print(missing_cols)\n"
   ]
  },
  {
   "cell_type": "code",
   "execution_count": 15,
   "metadata": {},
   "outputs": [],
   "source": [
    "data_test['model_247.0'] = 0\n"
   ]
  },
  {
   "cell_type": "code",
   "execution_count": 16,
   "metadata": {},
   "outputs": [],
   "source": [
    "train_data.fillna(train_data.median(),inplace= True)\n",
    "data_test.fillna(train_data.median(),inplace= True)\n"
   ]
  },
  {
   "cell_type": "code",
   "execution_count": 17,
   "metadata": {},
   "outputs": [
    {
     "name": "stdout",
     "output_type": "stream",
     "text": [
      "344\n",
      "['SaleID', 'name', 'regDate', 'power', 'kilometer', 'regionCode', 'seller', 'offerType', 'creatDate', 'price', 'v_0', 'v_1', 'v_2', 'v_3', 'v_4', 'v_5', 'v_6', 'v_7', 'v_8', 'v_9', 'v_10', 'v_11', 'v_12', 'v_13', 'v_14', 'regDatetimestamp', 'regDate_year', 'regDate_month', 'regDate_day', 'regDate_dayofweek', 'creatDatetimestamp', 'creatDate_year', 'creatDate_month', 'creatDate_day', 'creatDate_dayofweek', 'carAge', 'model_0.0', 'model_1.0', 'model_2.0', 'model_3.0', 'model_4.0', 'model_5.0', 'model_6.0', 'model_7.0', 'model_8.0', 'model_9.0', 'model_10.0', 'model_11.0', 'model_12.0', 'model_13.0', 'model_14.0', 'model_15.0', 'model_16.0', 'model_17.0', 'model_18.0', 'model_19.0', 'model_20.0', 'model_21.0', 'model_22.0', 'model_23.0', 'model_24.0', 'model_25.0', 'model_26.0', 'model_27.0', 'model_28.0', 'model_29.0', 'model_30.0', 'model_31.0', 'model_32.0', 'model_33.0', 'model_34.0', 'model_35.0', 'model_36.0', 'model_37.0', 'model_38.0', 'model_39.0', 'model_40.0', 'model_41.0', 'model_42.0', 'model_43.0', 'model_44.0', 'model_45.0', 'model_46.0', 'model_47.0', 'model_48.0', 'model_49.0', 'model_50.0', 'model_51.0', 'model_52.0', 'model_53.0', 'model_54.0', 'model_55.0', 'model_56.0', 'model_57.0', 'model_58.0', 'model_59.0', 'model_60.0', 'model_61.0', 'model_62.0', 'model_63.0', 'model_64.0', 'model_65.0', 'model_66.0', 'model_67.0', 'model_68.0', 'model_69.0', 'model_70.0', 'model_71.0', 'model_72.0', 'model_73.0', 'model_74.0', 'model_75.0', 'model_76.0', 'model_77.0', 'model_78.0', 'model_79.0', 'model_80.0', 'model_81.0', 'model_82.0', 'model_83.0', 'model_84.0', 'model_85.0', 'model_86.0', 'model_87.0', 'model_88.0', 'model_89.0', 'model_90.0', 'model_91.0', 'model_92.0', 'model_93.0', 'model_94.0', 'model_95.0', 'model_96.0', 'model_97.0', 'model_98.0', 'model_99.0', 'model_100.0', 'model_101.0', 'model_102.0', 'model_103.0', 'model_104.0', 'model_105.0', 'model_106.0', 'model_107.0', 'model_108.0', 'model_109.0', 'model_110.0', 'model_111.0', 'model_112.0', 'model_113.0', 'model_114.0', 'model_115.0', 'model_116.0', 'model_117.0', 'model_118.0', 'model_119.0', 'model_120.0', 'model_121.0', 'model_122.0', 'model_123.0', 'model_124.0', 'model_125.0', 'model_126.0', 'model_127.0', 'model_128.0', 'model_129.0', 'model_130.0', 'model_131.0', 'model_132.0', 'model_133.0', 'model_134.0', 'model_135.0', 'model_136.0', 'model_137.0', 'model_138.0', 'model_139.0', 'model_140.0', 'model_141.0', 'model_142.0', 'model_143.0', 'model_144.0', 'model_145.0', 'model_146.0', 'model_147.0', 'model_148.0', 'model_149.0', 'model_150.0', 'model_151.0', 'model_152.0', 'model_153.0', 'model_154.0', 'model_155.0', 'model_156.0', 'model_157.0', 'model_158.0', 'model_159.0', 'model_160.0', 'model_161.0', 'model_162.0', 'model_163.0', 'model_164.0', 'model_165.0', 'model_166.0', 'model_167.0', 'model_168.0', 'model_169.0', 'model_170.0', 'model_171.0', 'model_172.0', 'model_173.0', 'model_174.0', 'model_175.0', 'model_176.0', 'model_177.0', 'model_178.0', 'model_179.0', 'model_180.0', 'model_181.0', 'model_182.0', 'model_183.0', 'model_184.0', 'model_185.0', 'model_186.0', 'model_187.0', 'model_188.0', 'model_189.0', 'model_190.0', 'model_191.0', 'model_192.0', 'model_193.0', 'model_194.0', 'model_195.0', 'model_196.0', 'model_197.0', 'model_198.0', 'model_199.0', 'model_200.0', 'model_201.0', 'model_202.0', 'model_203.0', 'model_204.0', 'model_205.0', 'model_206.0', 'model_207.0', 'model_208.0', 'model_209.0', 'model_210.0', 'model_211.0', 'model_212.0', 'model_213.0', 'model_214.0', 'model_215.0', 'model_216.0', 'model_217.0', 'model_218.0', 'model_219.0', 'model_220.0', 'model_221.0', 'model_222.0', 'model_223.0', 'model_224.0', 'model_225.0', 'model_226.0', 'model_227.0', 'model_228.0', 'model_229.0', 'model_230.0', 'model_231.0', 'model_232.0', 'model_233.0', 'model_234.0', 'model_235.0', 'model_236.0', 'model_237.0', 'model_238.0', 'model_239.0', 'model_240.0', 'model_241.0', 'model_242.0', 'model_243.0', 'model_244.0', 'model_245.0', 'model_246.0', 'model_247.0', 'bodyType_0.0', 'bodyType_1.0', 'bodyType_2.0', 'bodyType_3.0', 'bodyType_4.0', 'bodyType_5.0', 'bodyType_6.0', 'bodyType_7.0', 'gearbox_0.0', 'gearbox_1.0', 'brand_0', 'brand_1', 'brand_2', 'brand_3', 'brand_4', 'brand_5', 'brand_6', 'brand_7', 'brand_8', 'brand_9', 'brand_10', 'brand_11', 'brand_12', 'brand_13', 'brand_14', 'brand_15', 'brand_16', 'brand_17', 'brand_18', 'brand_19', 'brand_20', 'brand_21', 'brand_22', 'brand_23', 'brand_24', 'brand_25', 'brand_26', 'brand_27', 'brand_28', 'brand_29', 'brand_30', 'brand_31', 'brand_32', 'brand_33', 'brand_34', 'brand_35', 'brand_36', 'brand_37', 'brand_38', 'brand_39', 'fuelType_0.0', 'fuelType_1.0', 'fuelType_2.0', 'fuelType_3.0', 'fuelType_4.0', 'fuelType_5.0', 'fuelType_6.0', 'notRepairedDamage_0.0', 'notRepairedDamage_0.5', 'notRepairedDamage_1.0']\n"
     ]
    }
   ],
   "source": [
    "tags=list(train_data.columns)\n",
    "print(len(tags))\n",
    "print(tags)\n"
   ]
  },
  {
   "cell_type": "code",
   "execution_count": 18,
   "metadata": {},
   "outputs": [
    {
     "name": "stdout",
     "output_type": "stream",
     "text": [
      "340\n",
      "['name', 'regDate', 'power', 'kilometer', 'regionCode', 'seller', 'offerType', 'creatDate', 'v_0', 'v_1', 'v_2', 'v_3', 'v_4', 'v_5', 'v_6', 'v_7', 'v_8', 'v_9', 'v_10', 'v_11', 'v_12', 'v_13', 'v_14', 'regDate_year', 'regDate_month', 'regDate_day', 'regDate_dayofweek', 'creatDate_year', 'creatDate_month', 'creatDate_day', 'creatDate_dayofweek', 'carAge', 'model_0.0', 'model_1.0', 'model_2.0', 'model_3.0', 'model_4.0', 'model_5.0', 'model_6.0', 'model_7.0', 'model_8.0', 'model_9.0', 'model_10.0', 'model_11.0', 'model_12.0', 'model_13.0', 'model_14.0', 'model_15.0', 'model_16.0', 'model_17.0', 'model_18.0', 'model_19.0', 'model_20.0', 'model_21.0', 'model_22.0', 'model_23.0', 'model_24.0', 'model_25.0', 'model_26.0', 'model_27.0', 'model_28.0', 'model_29.0', 'model_30.0', 'model_31.0', 'model_32.0', 'model_33.0', 'model_34.0', 'model_35.0', 'model_36.0', 'model_37.0', 'model_38.0', 'model_39.0', 'model_40.0', 'model_41.0', 'model_42.0', 'model_43.0', 'model_44.0', 'model_45.0', 'model_46.0', 'model_47.0', 'model_48.0', 'model_49.0', 'model_50.0', 'model_51.0', 'model_52.0', 'model_53.0', 'model_54.0', 'model_55.0', 'model_56.0', 'model_57.0', 'model_58.0', 'model_59.0', 'model_60.0', 'model_61.0', 'model_62.0', 'model_63.0', 'model_64.0', 'model_65.0', 'model_66.0', 'model_67.0', 'model_68.0', 'model_69.0', 'model_70.0', 'model_71.0', 'model_72.0', 'model_73.0', 'model_74.0', 'model_75.0', 'model_76.0', 'model_77.0', 'model_78.0', 'model_79.0', 'model_80.0', 'model_81.0', 'model_82.0', 'model_83.0', 'model_84.0', 'model_85.0', 'model_86.0', 'model_87.0', 'model_88.0', 'model_89.0', 'model_90.0', 'model_91.0', 'model_92.0', 'model_93.0', 'model_94.0', 'model_95.0', 'model_96.0', 'model_97.0', 'model_98.0', 'model_99.0', 'model_100.0', 'model_101.0', 'model_102.0', 'model_103.0', 'model_104.0', 'model_105.0', 'model_106.0', 'model_107.0', 'model_108.0', 'model_109.0', 'model_110.0', 'model_111.0', 'model_112.0', 'model_113.0', 'model_114.0', 'model_115.0', 'model_116.0', 'model_117.0', 'model_118.0', 'model_119.0', 'model_120.0', 'model_121.0', 'model_122.0', 'model_123.0', 'model_124.0', 'model_125.0', 'model_126.0', 'model_127.0', 'model_128.0', 'model_129.0', 'model_130.0', 'model_131.0', 'model_132.0', 'model_133.0', 'model_134.0', 'model_135.0', 'model_136.0', 'model_137.0', 'model_138.0', 'model_139.0', 'model_140.0', 'model_141.0', 'model_142.0', 'model_143.0', 'model_144.0', 'model_145.0', 'model_146.0', 'model_147.0', 'model_148.0', 'model_149.0', 'model_150.0', 'model_151.0', 'model_152.0', 'model_153.0', 'model_154.0', 'model_155.0', 'model_156.0', 'model_157.0', 'model_158.0', 'model_159.0', 'model_160.0', 'model_161.0', 'model_162.0', 'model_163.0', 'model_164.0', 'model_165.0', 'model_166.0', 'model_167.0', 'model_168.0', 'model_169.0', 'model_170.0', 'model_171.0', 'model_172.0', 'model_173.0', 'model_174.0', 'model_175.0', 'model_176.0', 'model_177.0', 'model_178.0', 'model_179.0', 'model_180.0', 'model_181.0', 'model_182.0', 'model_183.0', 'model_184.0', 'model_185.0', 'model_186.0', 'model_187.0', 'model_188.0', 'model_189.0', 'model_190.0', 'model_191.0', 'model_192.0', 'model_193.0', 'model_194.0', 'model_195.0', 'model_196.0', 'model_197.0', 'model_198.0', 'model_199.0', 'model_200.0', 'model_201.0', 'model_202.0', 'model_203.0', 'model_204.0', 'model_205.0', 'model_206.0', 'model_207.0', 'model_208.0', 'model_209.0', 'model_210.0', 'model_211.0', 'model_212.0', 'model_213.0', 'model_214.0', 'model_215.0', 'model_216.0', 'model_217.0', 'model_218.0', 'model_219.0', 'model_220.0', 'model_221.0', 'model_222.0', 'model_223.0', 'model_224.0', 'model_225.0', 'model_226.0', 'model_227.0', 'model_228.0', 'model_229.0', 'model_230.0', 'model_231.0', 'model_232.0', 'model_233.0', 'model_234.0', 'model_235.0', 'model_236.0', 'model_237.0', 'model_238.0', 'model_239.0', 'model_240.0', 'model_241.0', 'model_242.0', 'model_243.0', 'model_244.0', 'model_245.0', 'model_246.0', 'model_247.0', 'bodyType_0.0', 'bodyType_1.0', 'bodyType_2.0', 'bodyType_3.0', 'bodyType_4.0', 'bodyType_5.0', 'bodyType_6.0', 'bodyType_7.0', 'gearbox_0.0', 'gearbox_1.0', 'brand_0', 'brand_1', 'brand_2', 'brand_3', 'brand_4', 'brand_5', 'brand_6', 'brand_7', 'brand_8', 'brand_9', 'brand_10', 'brand_11', 'brand_12', 'brand_13', 'brand_14', 'brand_15', 'brand_16', 'brand_17', 'brand_18', 'brand_19', 'brand_20', 'brand_21', 'brand_22', 'brand_23', 'brand_24', 'brand_25', 'brand_26', 'brand_27', 'brand_28', 'brand_29', 'brand_30', 'brand_31', 'brand_32', 'brand_33', 'brand_34', 'brand_35', 'brand_36', 'brand_37', 'brand_38', 'brand_39', 'fuelType_0.0', 'fuelType_1.0', 'fuelType_2.0', 'fuelType_3.0', 'fuelType_4.0', 'fuelType_5.0', 'fuelType_6.0', 'notRepairedDamage_0.0', 'notRepairedDamage_0.5', 'notRepairedDamage_1.0']\n"
     ]
    }
   ],
   "source": [
    "tags.remove('price')\n",
    "tags.remove('creatDatetimestamp')\n",
    "tags.remove('SaleID')\n",
    "tags.remove('regDatetimestamp')\n",
    "print(len(tags))\n",
    "print(tags)\n"
   ]
  },
  {
   "cell_type": "code",
   "execution_count": 19,
   "metadata": {},
   "outputs": [],
   "source": [
    "#特征归一化\n",
    "min_max_scaler = MinMaxScaler()\n",
    "min_max_scaler.fit(train_data[tags].values)\n",
    "x = min_max_scaler.transform(train_data[tags].values)\n",
    "x_ = min_max_scaler.transform(data_test[tags].values)\n"
   ]
  },
  {
   "cell_type": "code",
   "execution_count": 20,
   "metadata": {},
   "outputs": [],
   "source": [
    "#获得y值\n",
    "y = train_data['price'].values\n"
   ]
  },
  {
   "cell_type": "code",
   "execution_count": 21,
   "metadata": {},
   "outputs": [],
   "source": [
    "#切分训练集\n",
    "x_train,x_test,y_train,y_test = train_test_split(x,y,test_size = 0.1)\n"
   ]
  },
  {
   "cell_type": "code",
   "execution_count": 79,
   "metadata": {},
   "outputs": [],
   "source": [
    "model = keras.Sequential([\n",
    "        keras.layers.Dense(400,activation='relu',input_shape=[340]), \n",
    "        keras.layers.Dense(200,activation='relu'),  \n",
    "        keras.layers.Dense(200,activation='relu'),\n",
    "        keras.layers.Dense(1)])\n",
    "model.compile(loss='mean_absolute_error',\n",
    "                optimizer='Adam')\n"
   ]
  },
  {
   "cell_type": "code",
   "execution_count": 89,
   "metadata": {},
   "outputs": [
    {
     "name": "stdout",
     "output_type": "stream",
     "text": [
      "Epoch 1/10\n",
      "135000/135000 [==============================] - 3s 23us/sample - loss: 405.8057\n",
      "Epoch 2/10\n",
      "135000/135000 [==============================] - 3s 21us/sample - loss: 403.2878\n",
      "Epoch 3/10\n",
      "135000/135000 [==============================] - 3s 21us/sample - loss: 402.2642\n",
      "Epoch 4/10\n",
      "135000/135000 [==============================] - 3s 22us/sample - loss: 406.8628\n",
      "Epoch 5/10\n",
      "135000/135000 [==============================] - 3s 21us/sample - loss: 407.3613\n",
      "Epoch 6/10\n",
      "135000/135000 [==============================] - 3s 20us/sample - loss: 400.3417\n",
      "Epoch 7/10\n",
      "135000/135000 [==============================] - 3s 20us/sample - loss: 407.2635\n",
      "Epoch 8/10\n",
      "135000/135000 [==============================] - 3s 20us/sample - loss: 399.3677\n",
      "Epoch 9/10\n",
      "135000/135000 [==============================] - 3s 20us/sample - loss: 402.9203\n",
      "Epoch 10/10\n",
      "135000/135000 [==============================] - 3s 23us/sample - loss: 400.5600\n"
     ]
    },
    {
     "data": {
      "text/plain": [
       "<tensorflow.python.keras.callbacks.History at 0x1d40248e4c8>"
      ]
     },
     "execution_count": 89,
     "metadata": {},
     "output_type": "execute_result"
    }
   ],
   "source": [
    "model.fit(x_train,y_train,batch_size = 2048,epochs=10)   # 100+10+10+10\n"
   ]
  },
  {
   "cell_type": "code",
   "execution_count": 90,
   "metadata": {},
   "outputs": [
    {
     "name": "stdout",
     "output_type": "stream",
     "text": [
      "392.22936861411245\n"
     ]
    }
   ],
   "source": [
    "#比较训练集和验证集效果\n",
    "print(mean_absolute_error(y_train,model.predict(x_train)))\n"
   ]
  },
  {
   "cell_type": "code",
   "execution_count": 91,
   "metadata": {},
   "outputs": [
    {
     "name": "stdout",
     "output_type": "stream",
     "text": [
      "482.09499427979785\n"
     ]
    }
   ],
   "source": [
    "test_pre = model.predict(x_test)\n",
    "print(mean_absolute_error(y_test,test_pre))"
   ]
  },
  {
   "cell_type": "code",
   "execution_count": 64,
   "metadata": {},
   "outputs": [],
   "source": [
    "#输出结果预测\n",
    "y_=model.predict(x_)\n"
   ]
  },
  {
   "cell_type": "code",
   "execution_count": 65,
   "metadata": {},
   "outputs": [],
   "source": [
    "data_test_price = pd.DataFrame(y_,columns = ['price'])\n",
    "results = pd.concat([data_test['SaleID'],data_test_price],axis = 1)\n",
    "results.to_csv('results0409-02.csv',sep = ',',index = None)\n"
   ]
  },
  {
   "cell_type": "code",
   "execution_count": null,
   "metadata": {},
   "outputs": [],
   "source": []
  },
  {
   "cell_type": "code",
   "execution_count": null,
   "metadata": {},
   "outputs": [],
   "source": []
  }
 ],
 "metadata": {
  "kernelspec": {
   "display_name": "Python 3",
   "language": "python",
   "name": "python3"
  },
  "language_info": {
   "codemirror_mode": {
    "name": "ipython",
    "version": 3
   },
   "file_extension": ".py",
   "mimetype": "text/x-python",
   "name": "python",
   "nbconvert_exporter": "python",
   "pygments_lexer": "ipython3",
   "version": "3.7.4"
  }
 },
 "nbformat": 4,
 "nbformat_minor": 2
}
